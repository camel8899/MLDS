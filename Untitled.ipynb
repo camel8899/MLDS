{
 "cells": [
  {
   "cell_type": "code",
   "execution_count": 1,
   "metadata": {
    "collapsed": true
   },
   "outputs": [],
   "source": [
    "import torch\n",
    "import torch.nn as nn\n",
    "from torch.autograd import Variable\n",
    "from torch import optim\n",
    "from torch.utils.data import Dataset,DataLoader\n",
    "import numpy as np\n",
    "from tqdm import tqdm\n",
    "\n",
    "\n",
    "import os\n",
    "import json\n",
    "from itertools import accumulate\n",
    "from random import randint"
   ]
  },
  {
   "cell_type": "code",
   "execution_count": 4,
   "metadata": {
    "collapsed": true
   },
   "outputs": [],
   "source": [
    "class Encoder(nn.Module):\n",
    "    def __init__(self, ninp, nhid, nlayers=1, bidirectional=False):\n",
    "        super(Encoder, self).__init__()\n",
    "        self.nlayers = nlayers\n",
    "        self.gru = nn.GRU(\n",
    "                     input_size = ninp,\n",
    "                     hidden_size = nhid,\n",
    "                     num_layers = nlayers,\n",
    "                     batch_first = True,\n",
    "                     bidirectional = bidirectional\n",
    "                   )\n",
    "        self.nhid = nhid\n",
    "        self.ndirection = 1 + bidirectional\n",
    "        \n",
    "    def forward(self, data, hidden):\n",
    "        for i in range(self.nlayers):\n",
    "            output, hidden = self.gru(data, hidden)\n",
    "        return output, hidden\n",
    "    \n",
    "    def init_hidden(self, bsz):\n",
    "        result = Variable(torch.zeros(self.ndirection, bsz, self.nhid))\n",
    "        return result.cuda()\n",
    "    \n",
    "class Decoder(nn.Module):\n",
    "    def __init__(self, ninp, nhid, ntoken, nlayers=1, bidirectional=False):\n",
    "        super(Decoder, self).__init__()\n",
    "        self.nlayers = nlayers\n",
    "        self.gru = nn.GRU(\n",
    "                     input_size = ninp,\n",
    "                     hidden_size = nhid,\n",
    "                     num_layers = nlayers,\n",
    "                     batch_first = True,\n",
    "                     bidirectional = bidirectional\n",
    "                   )\n",
    "        self.nhid = nhid\n",
    "        self.ntoken = ntoken\n",
    "        self.ndirection = 1 + bidirectional\n",
    "\n",
    "        self.hidden2out = nn.Linear(nhid * self.ndirection, ntoken)\n",
    "        \n",
    "    def forward(self, data, hidden):\n",
    "        for i in range(self.nlayers):\n",
    "            output, hidden = self.gru(data, hidden)\n",
    "            output1 = self.hidden2out(output)\n",
    "        return output, hidden, output1\n",
    "    \n",
    "    def init_hidden(self, bsz):\n",
    "        result = Variable(torch.zeros(self.ndirection, bsz, self.nhid))\n",
    "        return result.cuda()"
   ]
  },
  {
   "cell_type": "code",
   "execution_count": null,
   "metadata": {
    "collapsed": true
   },
   "outputs": [],
   "source": []
  },
  {
   "cell_type": "code",
   "execution_count": 2,
   "metadata": {
    "collapsed": true
   },
   "outputs": [],
   "source": [
    "VOCAB_SIZE = 6773\n",
    "INPUT_DIM = 4096\n",
    "DATA_DIR = './MLDS_hw2_data/training_data/feat'\n",
    "SAVE_DIR = './save'\n",
    "LABEL_PATH = './MLDS_hw2_data/training_label.json'\n",
    "BATCH_SIZE = 32\n",
    "BOS_TOKEN = 1\n",
    "EOS_TOKEN = 2\n",
    "hidden_size = 256\n",
    "BIDIRECTIONAL = False\n",
    "model = 'S2VT'\n",
    "postfix = 'new'\n",
    "class Vocab:\n",
    "    def __init__(self,label_path):\n",
    "        print(\"Building Vocab\")\n",
    "        with open(label_path,'r') as f:\n",
    "            self.label = json.load(f)\n",
    "        self.vocab2index = {'<PAD>':0, '<BOS>':1, '<EOS>':2}\n",
    "        self.index2vocab = {0: '<PAD>', 1:'<BOS>', 2:'<EOS>'}\n",
    "        self.num_words = len(self.vocab2index)\n",
    "        self.build()\n",
    "        \n",
    "        print(self.num_words, 'words in the bank.')\n",
    "\n",
    "    def build(self):\n",
    "        for l in self.label:\n",
    "            for line in l[\"caption\"]:\n",
    "                line = line.replace('.','')\n",
    "                line = line.replace('!','')\n",
    "                line = line.replace('(','')\n",
    "                line = line.replace(')','')\n",
    "                for w in line.strip().split():\n",
    "                    if w not in self.vocab2index.keys():\n",
    "                        self.vocab2index[w] = self.num_words\n",
    "                        self.index2vocab[self.num_words] = w\n",
    "                        self.num_words += 1\n",
    "                        \n",
    "    def sen2index(self, sen):\n",
    "        return [BOS_TOKEN] + [self.vocab2index[word] for word in sen] + [EOS_TOKEN]\n",
    "\n",
    "class TA_Dataset(Dataset):\n",
    "    def __init__(self,data_dir,label_path,batch_sample = True):\n",
    "        print(\"Preparing dataset\")\n",
    "        self.data_dir = data_dir\n",
    "        with open(label_path,'r') as f:\n",
    "            self.label = json.load(f)\n",
    "        self.batch_sample = batch_sample\n",
    "        \n",
    "        if batch_sample:\n",
    "            self.total_len = len(self.label)\n",
    "        else:\n",
    "            temp = [ len(video['caption']) for video in label]\n",
    "            self.accu = accumulate(temp)\n",
    "            self.total_len = sum(temp) \n",
    "            \n",
    "    def __len__(self):\n",
    "        return self.total_len\n",
    "    \n",
    "    def __getitem__(self, index):\n",
    "        if self.batch_sample:\n",
    "            avi_id = self.label[index][\"id\"]+'.npy'\n",
    "            feat = np.load(os.path.join(self.data_dir, avi_id))\n",
    "            captions = self.label[index]['caption']\n",
    "            caption = captions[randint(0, len(captions)-1)]\n",
    "            \n",
    "            for ch in '.!()':\n",
    "                if ch in caption:\n",
    "                    caption = caption.replace(ch, '')\n",
    "            \n",
    "            feat = torch.FloatTensor(feat)\n",
    "            caption = vocab.sen2index(caption.split())\n",
    "            caption = torch.LongTensor(caption + [0]*(50 - len(caption)))\n",
    "            \n",
    "            return feat, caption\n",
    "        else:\n",
    "            for i, number in enumerate(self.accu):\n",
    "                if number > index:\n",
    "                    avi_id = self.label[i-1]['id'] + '.npy'\n",
    "                    feat = np.load(os.path.join(self.data_dir, avi_id))\n",
    "                    caption = self.label[i-1][index - self.accu[i-1]]\n",
    "                    \n",
    "                    for ch in '.!()':\n",
    "                        if ch in caption:\n",
    "                            caption = caption.replace(ch, '')\n",
    "\n",
    "                    feat = torch.FloatTensor(feat)\n",
    "                    caption = vocab.sen2index(caption.split())\n",
    "                    caption = torch.LongTensor(caption + [0]*(50 - len(caption)))\n",
    "\n",
    "                    return feat, caption"
   ]
  },
  {
   "cell_type": "code",
   "execution_count": 10,
   "metadata": {},
   "outputs": [
    {
     "name": "stdout",
     "output_type": "stream",
     "text": [
      "Building Vocab\n",
      "6773 words in the bank.\n",
      "Preparing dataset\n"
     ]
    }
   ],
   "source": [
    "epoch = 100\n",
    "bsz = 16\n",
    "vocab = Vocab('../data/MLDS_hw2_data/training_label.json')\n",
    "DS = TA_Dataset('../data/MLDS_hw2_data/training_data/feat', '../data/MLDS_hw2_data/training_label.json')\n",
    "# model = S2VT(4096, 6772, 256, 1).cuda()\n",
    "encoder = Encoder(INPUT_DIM, hidden_size, 1, BIDIRECTIONAL).cuda()\n",
    "decoder = Decoder(hidden_size+hidden_size, hidden_size, VOCAB_SIZE, 1, BIDIRECTIONAL).cuda()\n",
    "criterion = nn.CrossEntropyLoss().cuda()\n",
    "e_optimizer = optim.Adam(encoder.parameters(), lr=1e-3)\n",
    "d_optimizer = optim.Adam(decoder.parameters(), lr=1e-3)"
   ]
  },
  {
   "cell_type": "code",
   "execution_count": 11,
   "metadata": {
    "collapsed": true
   },
   "outputs": [],
   "source": [
    "train_loader = DataLoader(\n",
    "                   dataset = DS,\n",
    "                   batch_size = 16,\n",
    "                   shuffle = True,\n",
    "                   num_workers = 4\n",
    "                )"
   ]
  },
  {
   "cell_type": "code",
   "execution_count": 12,
   "metadata": {
    "tags": [
     "training"
    ]
   },
   "outputs": [
    {
     "name": "stderr",
     "output_type": "stream",
     "text": [
      "100%|██████████| 91/91 [00:14<00:00,  6.39it/s]\n",
      "  0%|          | 0/91 [00:00<?, ?it/s]"
     ]
    },
    {
     "name": "stdout",
     "output_type": "stream",
     "text": [
      "epoch 1 loss :  4.796872919016871\n"
     ]
    },
    {
     "name": "stderr",
     "output_type": "stream",
     "text": [
      "100%|██████████| 91/91 [00:13<00:00,  6.58it/s]\n",
      "  0%|          | 0/91 [00:00<?, ?it/s]"
     ]
    },
    {
     "name": "stdout",
     "output_type": "stream",
     "text": [
      "epoch 2 loss :  3.0229291284495385\n"
     ]
    },
    {
     "name": "stderr",
     "output_type": "stream",
     "text": [
      "100%|██████████| 91/91 [00:14<00:00,  6.40it/s]\n",
      "  0%|          | 0/91 [00:00<?, ?it/s]"
     ]
    },
    {
     "name": "stdout",
     "output_type": "stream",
     "text": [
      "epoch 3 loss :  2.9638055183147562\n"
     ]
    },
    {
     "name": "stderr",
     "output_type": "stream",
     "text": [
      "100%|██████████| 91/91 [00:14<00:00,  6.26it/s]\n",
      "  0%|          | 0/91 [00:00<?, ?it/s]"
     ]
    },
    {
     "name": "stdout",
     "output_type": "stream",
     "text": [
      "epoch 4 loss :  2.86524468520592\n"
     ]
    },
    {
     "name": "stderr",
     "output_type": "stream",
     "text": [
      "100%|██████████| 91/91 [00:14<00:00,  6.17it/s]\n",
      "  0%|          | 0/91 [00:00<?, ?it/s]"
     ]
    },
    {
     "name": "stdout",
     "output_type": "stream",
     "text": [
      "epoch 5 loss :  2.9276112812963024\n"
     ]
    },
    {
     "name": "stderr",
     "output_type": "stream",
     "text": [
      "100%|██████████| 91/91 [00:14<00:00,  6.27it/s]\n",
      "  0%|          | 0/91 [00:00<?, ?it/s]"
     ]
    },
    {
     "name": "stdout",
     "output_type": "stream",
     "text": [
      "epoch 6 loss :  2.8199515191439923\n"
     ]
    },
    {
     "name": "stderr",
     "output_type": "stream",
     "text": [
      "100%|██████████| 91/91 [00:15<00:00,  5.93it/s]\n",
      "  0%|          | 0/91 [00:00<?, ?it/s]"
     ]
    },
    {
     "name": "stdout",
     "output_type": "stream",
     "text": [
      "epoch 7 loss :  2.8711292332616347\n"
     ]
    },
    {
     "name": "stderr",
     "output_type": "stream",
     "text": [
      "100%|██████████| 91/91 [00:14<00:00,  6.11it/s]\n",
      "  0%|          | 0/91 [00:00<?, ?it/s]"
     ]
    },
    {
     "name": "stdout",
     "output_type": "stream",
     "text": [
      "epoch 8 loss :  2.7445101060538457\n"
     ]
    },
    {
     "name": "stderr",
     "output_type": "stream",
     "text": [
      "100%|██████████| 91/91 [00:14<00:00,  6.26it/s]\n",
      "  0%|          | 0/91 [00:00<?, ?it/s]"
     ]
    },
    {
     "name": "stdout",
     "output_type": "stream",
     "text": [
      "epoch 9 loss :  2.8143863520128973\n"
     ]
    },
    {
     "name": "stderr",
     "output_type": "stream",
     "text": [
      "100%|██████████| 91/91 [00:15<00:00,  5.74it/s]\n",
      "  0%|          | 0/91 [00:00<?, ?it/s]"
     ]
    },
    {
     "name": "stdout",
     "output_type": "stream",
     "text": [
      "epoch 10 loss :  2.737545581686086\n"
     ]
    },
    {
     "name": "stderr",
     "output_type": "stream",
     "text": [
      "100%|██████████| 91/91 [00:15<00:00,  5.74it/s]\n",
      "  0%|          | 0/91 [00:00<?, ?it/s]"
     ]
    },
    {
     "name": "stdout",
     "output_type": "stream",
     "text": [
      "epoch 11 loss :  2.6954489609290815\n"
     ]
    },
    {
     "name": "stderr",
     "output_type": "stream",
     "text": [
      "100%|██████████| 91/91 [00:15<00:00,  5.81it/s]\n",
      "  0%|          | 0/91 [00:00<?, ?it/s]"
     ]
    },
    {
     "name": "stdout",
     "output_type": "stream",
     "text": [
      "epoch 12 loss :  2.641676633111362\n"
     ]
    },
    {
     "name": "stderr",
     "output_type": "stream",
     "text": [
      "100%|██████████| 91/91 [00:15<00:00,  5.84it/s]\n",
      "  0%|          | 0/91 [00:00<?, ?it/s]"
     ]
    },
    {
     "name": "stdout",
     "output_type": "stream",
     "text": [
      "epoch 13 loss :  2.638446256703344\n"
     ]
    },
    {
     "name": "stderr",
     "output_type": "stream",
     "text": [
      "100%|██████████| 91/91 [00:15<00:00,  5.79it/s]\n",
      "  0%|          | 0/91 [00:00<?, ?it/s]"
     ]
    },
    {
     "name": "stdout",
     "output_type": "stream",
     "text": [
      "epoch 14 loss :  2.6292021244969863\n"
     ]
    },
    {
     "name": "stderr",
     "output_type": "stream",
     "text": [
      "100%|██████████| 91/91 [00:15<00:00,  5.97it/s]\n",
      "  0%|          | 0/91 [00:00<?, ?it/s]"
     ]
    },
    {
     "name": "stdout",
     "output_type": "stream",
     "text": [
      "epoch 15 loss :  2.496824739390406\n"
     ]
    },
    {
     "name": "stderr",
     "output_type": "stream",
     "text": [
      "100%|██████████| 91/91 [00:14<00:00,  6.30it/s]\n",
      "  0%|          | 0/91 [00:00<?, ?it/s]"
     ]
    },
    {
     "name": "stdout",
     "output_type": "stream",
     "text": [
      "epoch 16 loss :  2.6425691736155543\n"
     ]
    },
    {
     "name": "stderr",
     "output_type": "stream",
     "text": [
      "100%|██████████| 91/91 [00:14<00:00,  6.32it/s]\n",
      "  0%|          | 0/91 [00:00<?, ?it/s]"
     ]
    },
    {
     "name": "stdout",
     "output_type": "stream",
     "text": [
      "epoch 17 loss :  2.559693065511769\n"
     ]
    },
    {
     "name": "stderr",
     "output_type": "stream",
     "text": [
      "100%|██████████| 91/91 [00:14<00:00,  6.24it/s]\n",
      "  0%|          | 0/91 [00:00<?, ?it/s]"
     ]
    },
    {
     "name": "stdout",
     "output_type": "stream",
     "text": [
      "epoch 18 loss :  2.5255504239838698\n"
     ]
    },
    {
     "name": "stderr",
     "output_type": "stream",
     "text": [
      "100%|██████████| 91/91 [00:14<00:00,  6.26it/s]\n",
      "  0%|          | 0/91 [00:00<?, ?it/s]"
     ]
    },
    {
     "name": "stdout",
     "output_type": "stream",
     "text": [
      "epoch 19 loss :  2.5710223428134262\n"
     ]
    },
    {
     "name": "stderr",
     "output_type": "stream",
     "text": [
      "100%|██████████| 91/91 [00:15<00:00,  5.92it/s]\n",
      "  0%|          | 0/91 [00:00<?, ?it/s]"
     ]
    },
    {
     "name": "stdout",
     "output_type": "stream",
     "text": [
      "epoch 20 loss :  2.507055892944336\n"
     ]
    },
    {
     "name": "stderr",
     "output_type": "stream",
     "text": [
      "100%|██████████| 91/91 [00:14<00:00,  6.12it/s]\n",
      "  0%|          | 0/91 [00:00<?, ?it/s]"
     ]
    },
    {
     "name": "stdout",
     "output_type": "stream",
     "text": [
      "epoch 21 loss :  2.3954088395217368\n"
     ]
    },
    {
     "name": "stderr",
     "output_type": "stream",
     "text": [
      "100%|██████████| 91/91 [00:14<00:00,  6.29it/s]\n",
      "  0%|          | 0/91 [00:00<?, ?it/s]"
     ]
    },
    {
     "name": "stdout",
     "output_type": "stream",
     "text": [
      "epoch 22 loss :  2.5156780545464876\n"
     ]
    },
    {
     "name": "stderr",
     "output_type": "stream",
     "text": [
      "100%|██████████| 91/91 [00:15<00:00,  5.94it/s]\n",
      "  0%|          | 0/91 [00:00<?, ?it/s]"
     ]
    },
    {
     "name": "stdout",
     "output_type": "stream",
     "text": [
      "epoch 23 loss :  2.5132491144640694\n"
     ]
    },
    {
     "name": "stderr",
     "output_type": "stream",
     "text": [
      "100%|██████████| 91/91 [00:16<00:00,  5.63it/s]\n",
      "  0%|          | 0/91 [00:00<?, ?it/s]"
     ]
    },
    {
     "name": "stdout",
     "output_type": "stream",
     "text": [
      "epoch 24 loss :  2.4879088710916455\n"
     ]
    },
    {
     "name": "stderr",
     "output_type": "stream",
     "text": [
      "100%|██████████| 91/91 [00:16<00:00,  5.58it/s]\n",
      "  0%|          | 0/91 [00:00<?, ?it/s]"
     ]
    },
    {
     "name": "stdout",
     "output_type": "stream",
     "text": [
      "epoch 25 loss :  2.4368191791402882\n"
     ]
    },
    {
     "name": "stderr",
     "output_type": "stream",
     "text": [
      "100%|██████████| 91/91 [00:16<00:00,  5.56it/s]\n",
      "  0%|          | 0/91 [00:00<?, ?it/s]"
     ]
    },
    {
     "name": "stdout",
     "output_type": "stream",
     "text": [
      "epoch 26 loss :  2.355327340487776\n"
     ]
    },
    {
     "name": "stderr",
     "output_type": "stream",
     "text": [
      "100%|██████████| 91/91 [00:15<00:00,  5.74it/s]\n",
      "  0%|          | 0/91 [00:00<?, ?it/s]"
     ]
    },
    {
     "name": "stdout",
     "output_type": "stream",
     "text": [
      "epoch 27 loss :  2.387327152120656\n"
     ]
    },
    {
     "name": "stderr",
     "output_type": "stream",
     "text": [
      "100%|██████████| 91/91 [00:15<00:00,  5.90it/s]\n",
      "  0%|          | 0/91 [00:00<?, ?it/s]"
     ]
    },
    {
     "name": "stdout",
     "output_type": "stream",
     "text": [
      "epoch 28 loss :  2.359730252233045\n"
     ]
    },
    {
     "name": "stderr",
     "output_type": "stream",
     "text": [
      "100%|██████████| 91/91 [00:16<00:00,  5.59it/s]\n",
      "  0%|          | 0/91 [00:00<?, ?it/s]"
     ]
    },
    {
     "name": "stdout",
     "output_type": "stream",
     "text": [
      "epoch 29 loss :  2.3273862957132274\n"
     ]
    },
    {
     "name": "stderr",
     "output_type": "stream",
     "text": [
      "100%|██████████| 91/91 [00:16<00:00,  5.59it/s]\n",
      "  0%|          | 0/91 [00:00<?, ?it/s]"
     ]
    },
    {
     "name": "stdout",
     "output_type": "stream",
     "text": [
      "epoch 30 loss :  2.4242064653593918\n"
     ]
    },
    {
     "name": "stderr",
     "output_type": "stream",
     "text": [
      "100%|██████████| 91/91 [00:16<00:00,  5.56it/s]\n",
      "  0%|          | 0/91 [00:00<?, ?it/s]"
     ]
    },
    {
     "name": "stdout",
     "output_type": "stream",
     "text": [
      "epoch 31 loss :  2.3606816535160458\n"
     ]
    },
    {
     "name": "stderr",
     "output_type": "stream",
     "text": [
      "100%|██████████| 91/91 [00:16<00:00,  5.38it/s]\n",
      "  0%|          | 0/91 [00:00<?, ?it/s]"
     ]
    },
    {
     "name": "stdout",
     "output_type": "stream",
     "text": [
      "epoch 32 loss :  2.410198272178913\n"
     ]
    },
    {
     "name": "stderr",
     "output_type": "stream",
     "text": [
      "100%|██████████| 91/91 [00:15<00:00,  5.78it/s]\n",
      "  0%|          | 0/91 [00:00<?, ?it/s]"
     ]
    },
    {
     "name": "stdout",
     "output_type": "stream",
     "text": [
      "epoch 33 loss :  2.26796600867962\n"
     ]
    },
    {
     "name": "stderr",
     "output_type": "stream",
     "text": [
      "100%|██████████| 91/91 [00:15<00:00,  5.83it/s]\n",
      "  0%|          | 0/91 [00:00<?, ?it/s]"
     ]
    },
    {
     "name": "stdout",
     "output_type": "stream",
     "text": [
      "epoch 34 loss :  2.3224379164597084\n"
     ]
    },
    {
     "name": "stderr",
     "output_type": "stream",
     "text": [
      "100%|██████████| 91/91 [00:15<00:00,  5.89it/s]\n",
      "  0%|          | 0/91 [00:00<?, ?it/s]"
     ]
    },
    {
     "name": "stdout",
     "output_type": "stream",
     "text": [
      "epoch 35 loss :  2.432056875557735\n"
     ]
    },
    {
     "name": "stderr",
     "output_type": "stream",
     "text": [
      "100%|██████████| 91/91 [00:14<00:00,  6.47it/s]\n",
      "  0%|          | 0/91 [00:00<?, ?it/s]"
     ]
    },
    {
     "name": "stdout",
     "output_type": "stream",
     "text": [
      "epoch 36 loss :  2.281541820394582\n"
     ]
    },
    {
     "name": "stderr",
     "output_type": "stream",
     "text": [
      "100%|██████████| 91/91 [00:14<00:00,  6.25it/s]\n",
      "  0%|          | 0/91 [00:00<?, ?it/s]"
     ]
    },
    {
     "name": "stdout",
     "output_type": "stream",
     "text": [
      "epoch 37 loss :  2.283194648479593\n"
     ]
    },
    {
     "name": "stderr",
     "output_type": "stream",
     "text": [
      "100%|██████████| 91/91 [00:14<00:00,  6.24it/s]\n",
      "  0%|          | 0/91 [00:00<?, ?it/s]"
     ]
    },
    {
     "name": "stdout",
     "output_type": "stream",
     "text": [
      "epoch 38 loss :  2.2349780418132914\n"
     ]
    },
    {
     "name": "stderr",
     "output_type": "stream",
     "text": [
      "100%|██████████| 91/91 [00:13<00:00,  6.51it/s]\n",
      "  0%|          | 0/91 [00:00<?, ?it/s]"
     ]
    },
    {
     "name": "stdout",
     "output_type": "stream",
     "text": [
      "epoch 39 loss :  2.2751129965946593\n"
     ]
    },
    {
     "name": "stderr",
     "output_type": "stream",
     "text": [
      "100%|██████████| 91/91 [00:16<00:00,  5.68it/s]\n",
      "  0%|          | 0/91 [00:00<?, ?it/s]"
     ]
    },
    {
     "name": "stdout",
     "output_type": "stream",
     "text": [
      "epoch 40 loss :  2.2223189912993333\n"
     ]
    },
    {
     "name": "stderr",
     "output_type": "stream",
     "text": [
      "100%|██████████| 91/91 [00:16<00:00,  5.68it/s]\n",
      "  0%|          | 0/91 [00:00<?, ?it/s]"
     ]
    },
    {
     "name": "stdout",
     "output_type": "stream",
     "text": [
      "epoch 41 loss :  2.25972953927928\n"
     ]
    },
    {
     "name": "stderr",
     "output_type": "stream",
     "text": [
      "100%|██████████| 91/91 [00:15<00:00,  5.75it/s]\n",
      "  0%|          | 0/91 [00:00<?, ?it/s]"
     ]
    },
    {
     "name": "stdout",
     "output_type": "stream",
     "text": [
      "epoch 42 loss :  2.118805010565396\n"
     ]
    },
    {
     "name": "stderr",
     "output_type": "stream",
     "text": [
      "100%|██████████| 91/91 [00:16<00:00,  5.67it/s]\n",
      "  0%|          | 0/91 [00:00<?, ?it/s]"
     ]
    },
    {
     "name": "stdout",
     "output_type": "stream",
     "text": [
      "epoch 43 loss :  2.1901306349655676\n"
     ]
    },
    {
     "name": "stderr",
     "output_type": "stream",
     "text": [
      "100%|██████████| 91/91 [00:16<00:00,  5.63it/s]\n",
      "  0%|          | 0/91 [00:00<?, ?it/s]"
     ]
    },
    {
     "name": "stdout",
     "output_type": "stream",
     "text": [
      "epoch 44 loss :  2.2397022063156653\n"
     ]
    },
    {
     "name": "stderr",
     "output_type": "stream",
     "text": [
      "100%|██████████| 91/91 [00:14<00:00,  6.09it/s]\n",
      "  0%|          | 0/91 [00:00<?, ?it/s]"
     ]
    },
    {
     "name": "stdout",
     "output_type": "stream",
     "text": [
      "epoch 45 loss :  2.2441217330406453\n"
     ]
    },
    {
     "name": "stderr",
     "output_type": "stream",
     "text": [
      "100%|██████████| 91/91 [00:14<00:00,  6.37it/s]\n",
      "  0%|          | 0/91 [00:00<?, ?it/s]"
     ]
    },
    {
     "name": "stdout",
     "output_type": "stream",
     "text": [
      "epoch 46 loss :  2.2489501505884633\n"
     ]
    },
    {
     "name": "stderr",
     "output_type": "stream",
     "text": [
      "100%|██████████| 91/91 [00:15<00:00,  5.93it/s]\n",
      "  0%|          | 0/91 [00:00<?, ?it/s]"
     ]
    },
    {
     "name": "stdout",
     "output_type": "stream",
     "text": [
      "epoch 47 loss :  2.1296568692963698\n"
     ]
    },
    {
     "name": "stderr",
     "output_type": "stream",
     "text": [
      "100%|██████████| 91/91 [00:15<00:00,  5.96it/s]\n",
      "  0%|          | 0/91 [00:00<?, ?it/s]"
     ]
    },
    {
     "name": "stdout",
     "output_type": "stream",
     "text": [
      "epoch 48 loss :  2.0985507136377795\n"
     ]
    },
    {
     "name": "stderr",
     "output_type": "stream",
     "text": [
      "100%|██████████| 91/91 [00:15<00:00,  5.98it/s]\n",
      "  0%|          | 0/91 [00:00<?, ?it/s]"
     ]
    },
    {
     "name": "stdout",
     "output_type": "stream",
     "text": [
      "epoch 49 loss :  2.127141580252812\n"
     ]
    },
    {
     "name": "stderr",
     "output_type": "stream",
     "text": [
      "100%|██████████| 91/91 [00:14<00:00,  6.34it/s]\n",
      "  0%|          | 0/91 [00:00<?, ?it/s]"
     ]
    },
    {
     "name": "stdout",
     "output_type": "stream",
     "text": [
      "epoch 50 loss :  2.1042049868353483\n"
     ]
    },
    {
     "name": "stderr",
     "output_type": "stream",
     "text": [
      "100%|██████████| 91/91 [00:14<00:00,  6.10it/s]\n",
      "  0%|          | 0/91 [00:00<?, ?it/s]"
     ]
    },
    {
     "name": "stdout",
     "output_type": "stream",
     "text": [
      "epoch 51 loss :  2.10038984496018\n"
     ]
    },
    {
     "name": "stderr",
     "output_type": "stream",
     "text": [
      "100%|██████████| 91/91 [00:16<00:00,  5.59it/s]\n",
      "  0%|          | 0/91 [00:00<?, ?it/s]"
     ]
    },
    {
     "name": "stdout",
     "output_type": "stream",
     "text": [
      "epoch 52 loss :  2.118941684591359\n"
     ]
    },
    {
     "name": "stderr",
     "output_type": "stream",
     "text": [
      "100%|██████████| 91/91 [00:14<00:00,  6.15it/s]\n",
      "  0%|          | 0/91 [00:00<?, ?it/s]"
     ]
    },
    {
     "name": "stdout",
     "output_type": "stream",
     "text": [
      "epoch 53 loss :  2.1165977530643856\n"
     ]
    },
    {
     "name": "stderr",
     "output_type": "stream",
     "text": [
      "100%|██████████| 91/91 [00:14<00:00,  6.27it/s]\n",
      "  0%|          | 0/91 [00:00<?, ?it/s]"
     ]
    },
    {
     "name": "stdout",
     "output_type": "stream",
     "text": [
      "epoch 54 loss :  2.0372555673533475\n"
     ]
    },
    {
     "name": "stderr",
     "output_type": "stream",
     "text": [
      "100%|██████████| 91/91 [00:15<00:00,  6.04it/s]\n",
      "  0%|          | 0/91 [00:00<?, ?it/s]"
     ]
    },
    {
     "name": "stdout",
     "output_type": "stream",
     "text": [
      "epoch 55 loss :  2.0310452323124326\n"
     ]
    },
    {
     "name": "stderr",
     "output_type": "stream",
     "text": [
      "100%|██████████| 91/91 [00:14<00:00,  6.27it/s]\n",
      "  0%|          | 0/91 [00:00<?, ?it/s]"
     ]
    },
    {
     "name": "stdout",
     "output_type": "stream",
     "text": [
      "epoch 56 loss :  2.0473309931261787\n"
     ]
    },
    {
     "name": "stderr",
     "output_type": "stream",
     "text": [
      "100%|██████████| 91/91 [00:14<00:00,  6.13it/s]\n",
      "  0%|          | 0/91 [00:00<?, ?it/s]"
     ]
    },
    {
     "name": "stdout",
     "output_type": "stream",
     "text": [
      "epoch 57 loss :  2.0285599373126852\n"
     ]
    },
    {
     "name": "stderr",
     "output_type": "stream",
     "text": [
      "100%|██████████| 91/91 [00:15<00:00,  5.96it/s]\n",
      "  0%|          | 0/91 [00:00<?, ?it/s]"
     ]
    },
    {
     "name": "stdout",
     "output_type": "stream",
     "text": [
      "epoch 58 loss :  2.0779944728982858\n"
     ]
    },
    {
     "name": "stderr",
     "output_type": "stream",
     "text": [
      "100%|██████████| 91/91 [00:14<00:00,  6.22it/s]\n",
      "  0%|          | 0/91 [00:00<?, ?it/s]"
     ]
    },
    {
     "name": "stdout",
     "output_type": "stream",
     "text": [
      "epoch 59 loss :  2.054936608939335\n"
     ]
    },
    {
     "name": "stderr",
     "output_type": "stream",
     "text": [
      "100%|██████████| 91/91 [00:14<00:00,  6.38it/s]\n",
      "  0%|          | 0/91 [00:00<?, ?it/s]"
     ]
    },
    {
     "name": "stdout",
     "output_type": "stream",
     "text": [
      "epoch 60 loss :  2.024508409171269\n"
     ]
    },
    {
     "name": "stderr",
     "output_type": "stream",
     "text": [
      "100%|██████████| 91/91 [00:14<00:00,  6.39it/s]\n",
      "  0%|          | 0/91 [00:00<?, ?it/s]"
     ]
    },
    {
     "name": "stdout",
     "output_type": "stream",
     "text": [
      "epoch 61 loss :  1.9863517432377256\n"
     ]
    },
    {
     "name": "stderr",
     "output_type": "stream",
     "text": [
      "100%|██████████| 91/91 [00:15<00:00,  5.73it/s]\n",
      "  0%|          | 0/91 [00:00<?, ?it/s]"
     ]
    },
    {
     "name": "stdout",
     "output_type": "stream",
     "text": [
      "epoch 62 loss :  1.918145734852758\n"
     ]
    },
    {
     "name": "stderr",
     "output_type": "stream",
     "text": [
      "100%|██████████| 91/91 [00:15<00:00,  5.71it/s]\n",
      "  0%|          | 0/91 [00:00<?, ?it/s]"
     ]
    },
    {
     "name": "stdout",
     "output_type": "stream",
     "text": [
      "epoch 63 loss :  2.052486331545073\n"
     ]
    },
    {
     "name": "stderr",
     "output_type": "stream",
     "text": [
      "100%|██████████| 91/91 [00:14<00:00,  6.17it/s]\n",
      "  0%|          | 0/91 [00:00<?, ?it/s]"
     ]
    },
    {
     "name": "stdout",
     "output_type": "stream",
     "text": [
      "epoch 64 loss :  1.9816465483040646\n"
     ]
    },
    {
     "name": "stderr",
     "output_type": "stream",
     "text": [
      "100%|██████████| 91/91 [00:14<00:00,  6.44it/s]\n",
      "  0%|          | 0/91 [00:00<?, ?it/s]"
     ]
    },
    {
     "name": "stdout",
     "output_type": "stream",
     "text": [
      "epoch 65 loss :  2.0343687675739157\n"
     ]
    },
    {
     "name": "stderr",
     "output_type": "stream",
     "text": [
      "100%|██████████| 91/91 [00:14<00:00,  6.41it/s]\n",
      "  0%|          | 0/91 [00:00<?, ?it/s]"
     ]
    },
    {
     "name": "stdout",
     "output_type": "stream",
     "text": [
      "epoch 66 loss :  1.9489605042030071\n"
     ]
    },
    {
     "name": "stderr",
     "output_type": "stream",
     "text": [
      "100%|██████████| 91/91 [00:14<00:00,  6.10it/s]\n",
      "  0%|          | 0/91 [00:00<?, ?it/s]"
     ]
    },
    {
     "name": "stdout",
     "output_type": "stream",
     "text": [
      "epoch 67 loss :  2.0658445082039667\n"
     ]
    },
    {
     "name": "stderr",
     "output_type": "stream",
     "text": [
      "100%|██████████| 91/91 [00:14<00:00,  6.16it/s]\n",
      "  0%|          | 0/91 [00:00<?, ?it/s]"
     ]
    },
    {
     "name": "stdout",
     "output_type": "stream",
     "text": [
      "epoch 68 loss :  1.95071182908683\n"
     ]
    },
    {
     "name": "stderr",
     "output_type": "stream",
     "text": [
      "100%|██████████| 91/91 [00:14<00:00,  6.20it/s]\n",
      "  0%|          | 0/91 [00:00<?, ?it/s]"
     ]
    },
    {
     "name": "stdout",
     "output_type": "stream",
     "text": [
      "epoch 69 loss :  1.9547638215689824\n"
     ]
    },
    {
     "name": "stderr",
     "output_type": "stream",
     "text": [
      "100%|██████████| 91/91 [00:14<00:00,  6.37it/s]\n",
      "  0%|          | 0/91 [00:00<?, ?it/s]"
     ]
    },
    {
     "name": "stdout",
     "output_type": "stream",
     "text": [
      "epoch 70 loss :  1.9261830047081256\n"
     ]
    },
    {
     "name": "stderr",
     "output_type": "stream",
     "text": [
      "100%|██████████| 91/91 [00:13<00:00,  6.52it/s]\n",
      "  0%|          | 0/91 [00:00<?, ?it/s]"
     ]
    },
    {
     "name": "stdout",
     "output_type": "stream",
     "text": [
      "epoch 71 loss :  1.8620912078331258\n"
     ]
    },
    {
     "name": "stderr",
     "output_type": "stream",
     "text": [
      "100%|██████████| 91/91 [00:13<00:00,  6.61it/s]\n",
      "  0%|          | 0/91 [00:00<?, ?it/s]"
     ]
    },
    {
     "name": "stdout",
     "output_type": "stream",
     "text": [
      "epoch 72 loss :  1.9327720615781587\n"
     ]
    },
    {
     "name": "stderr",
     "output_type": "stream",
     "text": [
      "100%|██████████| 91/91 [00:13<00:00,  6.81it/s]\n",
      "  0%|          | 0/91 [00:00<?, ?it/s]"
     ]
    },
    {
     "name": "stdout",
     "output_type": "stream",
     "text": [
      "epoch 73 loss :  1.9302186097769902\n"
     ]
    },
    {
     "name": "stderr",
     "output_type": "stream",
     "text": [
      "100%|██████████| 91/91 [00:13<00:00,  6.85it/s]\n",
      "  0%|          | 0/91 [00:00<?, ?it/s]"
     ]
    },
    {
     "name": "stdout",
     "output_type": "stream",
     "text": [
      "epoch 74 loss :  1.8885094978069437\n"
     ]
    },
    {
     "name": "stderr",
     "output_type": "stream",
     "text": [
      "100%|██████████| 91/91 [00:13<00:00,  6.69it/s]\n",
      "  0%|          | 0/91 [00:00<?, ?it/s]"
     ]
    },
    {
     "name": "stdout",
     "output_type": "stream",
     "text": [
      "epoch 75 loss :  1.9701028534461713\n"
     ]
    },
    {
     "name": "stderr",
     "output_type": "stream",
     "text": [
      "100%|██████████| 91/91 [00:13<00:00,  6.72it/s]\n",
      "  0%|          | 0/91 [00:00<?, ?it/s]"
     ]
    },
    {
     "name": "stdout",
     "output_type": "stream",
     "text": [
      "epoch 76 loss :  1.8891925154061153\n"
     ]
    },
    {
     "name": "stderr",
     "output_type": "stream",
     "text": [
      "100%|██████████| 91/91 [00:13<00:00,  6.78it/s]\n",
      "  0%|          | 0/91 [00:00<?, ?it/s]"
     ]
    },
    {
     "name": "stdout",
     "output_type": "stream",
     "text": [
      "epoch 77 loss :  1.850044875309385\n"
     ]
    },
    {
     "name": "stderr",
     "output_type": "stream",
     "text": [
      "100%|██████████| 91/91 [00:13<00:00,  6.59it/s]\n",
      "  0%|          | 0/91 [00:00<?, ?it/s]"
     ]
    },
    {
     "name": "stdout",
     "output_type": "stream",
     "text": [
      "epoch 78 loss :  1.851461690705398\n"
     ]
    },
    {
     "name": "stderr",
     "output_type": "stream",
     "text": [
      "100%|██████████| 91/91 [00:13<00:00,  6.71it/s]\n",
      "  0%|          | 0/91 [00:00<?, ?it/s]"
     ]
    },
    {
     "name": "stdout",
     "output_type": "stream",
     "text": [
      "epoch 79 loss :  1.800219533196811\n"
     ]
    },
    {
     "name": "stderr",
     "output_type": "stream",
     "text": [
      "100%|██████████| 91/91 [00:13<00:00,  6.78it/s]\n",
      "  0%|          | 0/91 [00:00<?, ?it/s]"
     ]
    },
    {
     "name": "stdout",
     "output_type": "stream",
     "text": [
      "epoch 80 loss :  1.8879962697522394\n"
     ]
    },
    {
     "name": "stderr",
     "output_type": "stream",
     "text": [
      "100%|██████████| 91/91 [00:13<00:00,  6.52it/s]\n",
      "  0%|          | 0/91 [00:00<?, ?it/s]"
     ]
    },
    {
     "name": "stdout",
     "output_type": "stream",
     "text": [
      "epoch 81 loss :  1.828589869532092\n"
     ]
    },
    {
     "name": "stderr",
     "output_type": "stream",
     "text": [
      "100%|██████████| 91/91 [00:13<00:00,  6.79it/s]\n",
      "  0%|          | 0/91 [00:00<?, ?it/s]"
     ]
    },
    {
     "name": "stdout",
     "output_type": "stream",
     "text": [
      "epoch 82 loss :  1.839430449913288\n"
     ]
    },
    {
     "name": "stderr",
     "output_type": "stream",
     "text": [
      "100%|██████████| 91/91 [00:13<00:00,  6.73it/s]\n",
      "  0%|          | 0/91 [00:00<?, ?it/s]"
     ]
    },
    {
     "name": "stdout",
     "output_type": "stream",
     "text": [
      "epoch 83 loss :  1.8531535799749965\n"
     ]
    },
    {
     "name": "stderr",
     "output_type": "stream",
     "text": [
      "100%|██████████| 91/91 [00:13<00:00,  6.74it/s]\n",
      "  0%|          | 0/91 [00:00<?, ?it/s]"
     ]
    },
    {
     "name": "stdout",
     "output_type": "stream",
     "text": [
      "epoch 84 loss :  1.880437864106277\n"
     ]
    },
    {
     "name": "stderr",
     "output_type": "stream",
     "text": [
      "100%|██████████| 91/91 [00:13<00:00,  6.82it/s]\n",
      "  0%|          | 0/91 [00:00<?, ?it/s]"
     ]
    },
    {
     "name": "stdout",
     "output_type": "stream",
     "text": [
      "epoch 85 loss :  1.8707146874789533\n"
     ]
    },
    {
     "name": "stderr",
     "output_type": "stream",
     "text": [
      "100%|██████████| 91/91 [00:13<00:00,  6.80it/s]\n",
      "  0%|          | 0/91 [00:00<?, ?it/s]"
     ]
    },
    {
     "name": "stdout",
     "output_type": "stream",
     "text": [
      "epoch 86 loss :  1.8794891607350317\n"
     ]
    },
    {
     "name": "stderr",
     "output_type": "stream",
     "text": [
      "100%|██████████| 91/91 [00:13<00:00,  6.78it/s]\n",
      "  0%|          | 0/91 [00:00<?, ?it/s]"
     ]
    },
    {
     "name": "stdout",
     "output_type": "stream",
     "text": [
      "epoch 87 loss :  1.837823511320969\n"
     ]
    },
    {
     "name": "stderr",
     "output_type": "stream",
     "text": [
      "100%|██████████| 91/91 [00:13<00:00,  6.58it/s]\n",
      "  0%|          | 0/91 [00:00<?, ?it/s]"
     ]
    },
    {
     "name": "stdout",
     "output_type": "stream",
     "text": [
      "epoch 88 loss :  1.8543542704088936\n"
     ]
    },
    {
     "name": "stderr",
     "output_type": "stream",
     "text": [
      "100%|██████████| 91/91 [00:14<00:00,  6.49it/s]\n",
      "  0%|          | 0/91 [00:00<?, ?it/s]"
     ]
    },
    {
     "name": "stdout",
     "output_type": "stream",
     "text": [
      "epoch 89 loss :  1.8030151696040713\n"
     ]
    },
    {
     "name": "stderr",
     "output_type": "stream",
     "text": [
      "100%|██████████| 91/91 [00:13<00:00,  6.67it/s]\n",
      "  0%|          | 0/91 [00:00<?, ?it/s]"
     ]
    },
    {
     "name": "stdout",
     "output_type": "stream",
     "text": [
      "epoch 90 loss :  1.785056695609257\n"
     ]
    },
    {
     "name": "stderr",
     "output_type": "stream",
     "text": [
      "100%|██████████| 91/91 [00:13<00:00,  6.75it/s]\n",
      "  0%|          | 0/91 [00:00<?, ?it/s]"
     ]
    },
    {
     "name": "stdout",
     "output_type": "stream",
     "text": [
      "epoch 91 loss :  1.7835150120176118\n"
     ]
    },
    {
     "name": "stderr",
     "output_type": "stream",
     "text": [
      "100%|██████████| 91/91 [00:13<00:00,  6.69it/s]\n",
      "  0%|          | 0/91 [00:00<?, ?it/s]"
     ]
    },
    {
     "name": "stdout",
     "output_type": "stream",
     "text": [
      "epoch 92 loss :  1.7927738492242222\n"
     ]
    },
    {
     "name": "stderr",
     "output_type": "stream",
     "text": [
      "100%|██████████| 91/91 [00:13<00:00,  6.77it/s]\n",
      "  0%|          | 0/91 [00:00<?, ?it/s]"
     ]
    },
    {
     "name": "stdout",
     "output_type": "stream",
     "text": [
      "epoch 93 loss :  1.850563280829068\n"
     ]
    },
    {
     "name": "stderr",
     "output_type": "stream",
     "text": [
      "100%|██████████| 91/91 [00:13<00:00,  6.74it/s]\n",
      "  0%|          | 0/91 [00:00<?, ?it/s]"
     ]
    },
    {
     "name": "stdout",
     "output_type": "stream",
     "text": [
      "epoch 94 loss :  1.7239202907167632\n"
     ]
    },
    {
     "name": "stderr",
     "output_type": "stream",
     "text": [
      "100%|██████████| 91/91 [00:13<00:00,  6.74it/s]\n",
      "  0%|          | 0/91 [00:00<?, ?it/s]"
     ]
    },
    {
     "name": "stdout",
     "output_type": "stream",
     "text": [
      "epoch 95 loss :  1.7193121219503469\n"
     ]
    },
    {
     "name": "stderr",
     "output_type": "stream",
     "text": [
      "100%|██████████| 91/91 [00:13<00:00,  6.78it/s]\n",
      "  0%|          | 0/91 [00:00<?, ?it/s]"
     ]
    },
    {
     "name": "stdout",
     "output_type": "stream",
     "text": [
      "epoch 96 loss :  1.7807588577270508\n"
     ]
    },
    {
     "name": "stderr",
     "output_type": "stream",
     "text": [
      "100%|██████████| 91/91 [00:13<00:00,  6.72it/s]\n",
      "  0%|          | 0/91 [00:00<?, ?it/s]"
     ]
    },
    {
     "name": "stdout",
     "output_type": "stream",
     "text": [
      "epoch 97 loss :  1.7832908367288525\n"
     ]
    },
    {
     "name": "stderr",
     "output_type": "stream",
     "text": [
      "100%|██████████| 91/91 [00:13<00:00,  6.69it/s]\n",
      "  0%|          | 0/91 [00:00<?, ?it/s]"
     ]
    },
    {
     "name": "stdout",
     "output_type": "stream",
     "text": [
      "epoch 98 loss :  1.7681344176983012\n"
     ]
    },
    {
     "name": "stderr",
     "output_type": "stream",
     "text": [
      "100%|██████████| 91/91 [00:13<00:00,  6.76it/s]\n",
      "  0%|          | 0/91 [00:00<?, ?it/s]"
     ]
    },
    {
     "name": "stdout",
     "output_type": "stream",
     "text": [
      "epoch 99 loss :  1.776755503950448\n"
     ]
    },
    {
     "name": "stderr",
     "output_type": "stream",
     "text": [
      "100%|██████████| 91/91 [00:13<00:00,  6.73it/s]"
     ]
    },
    {
     "name": "stdout",
     "output_type": "stream",
     "text": [
      "epoch 100 loss :  1.7744299290097993\n"
     ]
    },
    {
     "name": "stderr",
     "output_type": "stream",
     "text": [
      "\n"
     ]
    }
   ],
   "source": [
    "#############################################\n",
    "#   Training\n",
    "#############################################\n",
    "\n",
    "for i in range(epoch):\n",
    "    total_loss = 0\n",
    "    total_len = 0\n",
    "    for feat, caption in tqdm(train_loader):\n",
    "        e_optimizer.zero_grad()\n",
    "        d_optimizer.zero_grad()\n",
    "        \n",
    "        e_hid, d_hid = encoder.init_hidden(feat.size(0)), decoder.init_hidden(feat.size(0))\n",
    "        epad = Variable(torch.zeros(feat.size(0), 80, hidden_size*(1+BIDIRECTIONAL))).cuda()\n",
    "        dpad = Variable(torch.zeros(feat.size(0), 1, INPUT_DIM)).cuda()\n",
    "        \n",
    "        feat = Variable(feat).cuda()\n",
    "        e_out, e_hid = encoder(feat, e_hid)\n",
    "        d_out, d_hid, dn_out = decoder(torch.cat((epad, e_out), 2), d_hid)\n",
    "        \n",
    "        last_var = torch.zeros(feat.size(0), 1, hidden_size * (1+BIDIRECTIONAL))\n",
    "        last_var = Variable(last_var).cuda()\n",
    "        loss = 0\n",
    "        \n",
    "        for index in range(caption.size(-1)):\n",
    "            out1, e_hid = encoder(dpad, e_hid) \n",
    "            out2, d_hid, dn_out = decoder(torch.cat((last_var, out1),2), d_hid)\n",
    "            last_var = out2\n",
    "            ans = Variable(caption[:,index]).cuda()\n",
    "            loss += criterion(dn_out.view(-1, VOCAB_SIZE), ans)\n",
    "        total_loss += loss.data[0]\n",
    "        total_len += feat.size(0)\n",
    "        loss.backward()\n",
    "        e_optimizer.step()\n",
    "        d_optimizer.step()\n",
    "    print (\"epoch\", i+1,\"loss : \", total_loss/total_len)\n",
    "    "
   ]
  },
  {
   "cell_type": "code",
   "execution_count": 15,
   "metadata": {
    "scrolled": false
   },
   "outputs": [
    {
     "name": "stdout",
     "output_type": "stream",
     "text": [
      "ScdUht-pM6s_53_63.avi,A woman is a a a a \n",
      "wkgGxsuNVSg_34_41.avi,A man is running a a .\n",
      "BtQtRGI0F2Q_15_20.avi,A man is doing .\n",
      "k06Ge9ANKM8_5_16.avi,A little is is with a .\n",
      "sZf3VDsdDPM_107_114.avi,A man is singing .\n",
      "shPymuahrsc_5_12.avi,A slow is is a a .\n",
      "XOAgUVVwKEA_8_20.avi,A girl is is a .\n",
      "ufFT2BWh3BQ_0_8.avi,A baby panda laying on .\n",
      "5YJaS2Eswg0_22_26.avi,A man is a a a .\n",
      "lw7pTwpx0K0_38_48.avi,A man is a a .\n",
      "UbmZAe5u5FI_132_141.avi,A person is cutting .\n",
      "xCFCXzDUGjY_5_9.avi,A man is a a .\n",
      "He7Ge7Sogrk_47_70.avi,A person is a a .\n",
      "tJHUH9tpqPg_113_118.avi,A man is a a a .\n",
      "n016q1w8Q30_2_11.avi,A person is folding an .\n",
      "RjpbFlOHFps_8_25.avi,Two are are .\n",
      "6JnGBs88sL0_4_10.avi,A girl girl on on a \n",
      "EpMuCrbxE8A_107_115.avi,A man is a a a .\n",
      "HAjwXjwN9-A_16_24.avi,Two are are a a .\n",
      "4xVGpDmA4lE_23_33.avi,A man is walking a a .\n",
      "k5OKBX2e7xA_19_32.avi,A man is riding a a .\n",
      "Jag7oTemldY_12_25.avi,A man is firing a a .\n",
      "8MVo7fje_oE_125_130.avi,A man is a a plastic a a .\n",
      "bqMmyY1ImkI_0_14.avi,A woman is is a a .\n",
      "jTnrm338_KY_34_42.avi,A man is a a .\n",
      "UdcObAQ5OOM_15_30.avi,A man is a a on .\n",
      "4PcL6-mjRNk_11_18.avi,A cat is a the a .\n",
      "3qqEKTPxLNs_1_15.avi,A baby is is with a .\n",
      "glrijRGnmc0_211_215.avi,A man is a a a .\n",
      "q7pOFn8s4zc_263_273.avi,A man is a a a .\n",
      "mtrCf667KDk_134_176.avi,A woman is a a .\n",
      "0lh_UWF9ZP4_62_69.avi,A woman is mixing eggs into a \n",
      "JntMAcTlOF0_50_70.avi,A woman and woman woman a .\n",
      "7NNg0_n-bS8_21_30.avi,A man is playing guitar guitar .\n",
      "IhwPQL9dFYc_124_129.avi,A woman is a .\n",
      "BAf3LXFUaGs_28_38.avi,A man is playing .\n",
      "6q1dX6thX3E_286_295.avi,A woman is singing .\n",
      "RZL9irxnhZ0_34_40.avi,A boy is playing a .\n",
      "WWf0Z6ak3Dg_5_15.avi,A man is a a a into .\n",
      "PeUHy0A1GF0_114_121.avi,A person is a shrimp .\n",
      "klteYv1Uv9A_27_33.avi,A man is riding a bike a \n",
      "e-j59PqJjSM_405_416.avi,A man is pouring into into a bowl .\n",
      "778mkceE0UQ_40_46.avi,A car is is the the .\n",
      "77iDIp40m9E_126_131.avi,A dog is running a a .\n",
      "e-j59PqJjSM_50_98.avi,A man is cutting a .\n",
      "Dgf0VHMEtNs_57_66.avi,A man is a a a a \n",
      "f9Won2JpOEU_60_80.avi,A cat is playing a a .\n",
      "dfOuTx66bJU_34_39.avi,A woman is a a a .\n",
      "04Gt01vatkk_248_265.avi,A woman is a a .\n",
      "rl1rVk_xIOs_1_16.avi,Two girls are dancing .\n",
      "v7iIZXtpIb8_5_15.avi,A man is a a phone phone \n",
      "DhwrBs96Kgk_120_124.avi,A dog is walking a the .\n",
      "qLwgb3F0aPU_298_305.avi,People are are .\n",
      "qeKX-N1nKiM_0_5.avi,A man is a a a \n",
      "1Sp2__RCT0c_11_15.avi,A jack-o-lantern is flying in the \n",
      "Fe4tO5vW9_E_64_70.avi,A man is mixing into into a \n",
      "mmSQTI6gMNQ_120_128.avi,Two are are dancing .\n",
      "HV12kTtdTT4_5_14.avi,A baby is is a .\n",
      "0lh_UWF9ZP4_27_31.avi,A woman is a green .\n",
      "Je3V7U5Ctj4_569_576.avi,A man is spreading butter on a tortilla .\n",
      "30GeJHYoerk_121_126.avi,A are are a a a .\n",
      "04Gt01vatkk_308_321.avi,A man is a a .\n",
      "zulPFoY64wE_26_33.avi,A man is a a a .\n",
      "MrQd1zUVRUM_103_110.avi,A man is a a .\n",
      "xxHx6s_DbUo_216_222.avi,A man is walking .\n",
      "71soiLO6I9U_15_24.avi,A is is a a \n",
      "UXs3eq68ZjE_250_255.avi,A man is pouring a a a .\n",
      "jbzaMtPYtl8_48_58.avi,Two boys are fighting .\n",
      "8HB7ywgJuTg_131_142.avi,A person is adding into a a \n",
      "Cjf21Y19aUQ_82_86.avi,A man is playing a .\n",
      "qvg9eM4Hmzk_4_10.avi,A man lifts a a car .\n",
      "5HAf_INrFy0_3_25.avi,A small is is a a \n",
      "YmXCfQm0_CA_277_284.avi,A man is the a the the \n",
      "88DOMJ11q2M_84_87.avi,A woman is on a a \n",
      "NUYu9c9XsgY_7_21.avi,A girl is playing a .\n",
      "N3A7944_UJw_63_70.avi,A woman is a a into a \n",
      "uJPupV4oLZ0_4_12.avi,A cat is with with a .\n",
      "cnsjm3fNEec_4_10.avi,A man is his his his .\n",
      "J_evFB7RIKA_104_120.avi,A person is a a .\n",
      "g1Gldu1KS44_8_14.avi,A lion is is dirt dirt .\n",
      "s1ZABV7AQdA_38_48.avi,A girl is walking .\n",
      "tcxhOGyrCtI_15_21.avi,A puppy is is on a .\n",
      "inzk2fTUe1w_1_15.avi,A man is doing a .\n",
      "j2Dhf-xFUxU_13_20.avi,A person is a a .\n",
      "MTjrZthHwJQ_2_11.avi,A man is a a a .\n",
      "J---aiyznGQ_0_6.avi,A person is playing a .\n",
      "ZbtpcGi2DWY_161_170.avi,A baby is is on .\n",
      "RSx5G0_xH48_12_17.avi,A cat is playing with a .\n",
      "ecm9gf2Pgkc_1_24.avi,A cat is with with .\n",
      "pW9DFPqoIsI_26_50.avi,A woman is a a .\n",
      "N2Cm0SLr0ZE_18_29.avi,A baby is is playing a .\n",
      "sJSmRik2c-c_1_7.avi,A train is moving by a .\n",
      "zv2RIbUsnSw_335_341.avi,A man is a a a a a \n",
      "aM-RcQj0a7I_37_55.avi,A is is cooking shrimp \n",
      "TZ860P4iTaM_15_28.avi,A cat is playing piano piano .\n",
      "lo4KcsBN--A_0_10.avi,A badger is digging a .\n",
      "u4T76jsPin0_0_11.avi,A are playing a a the \n",
      "7HcYJKMxpcg_20_28.avi,A are are is on the the \n",
      "CGllPWAwmUo_1_15.avi,A man is making a a \n",
      "WTf5EgVY5uU_124_128.avi,A person is cooking into a a \n"
     ]
    }
   ],
   "source": [
    "#############################################\n",
    "#   Testing\n",
    "#############################################\n",
    "class Testset(Dataset):\n",
    "    def __init__(self, data, ids):\n",
    "        self.data_dir = data\n",
    "        self.label = []\n",
    "        with open(ids, 'r') as f:\n",
    "            for line in f:\n",
    "                self.label.append(line.strip())\n",
    "                \n",
    "    def __len__(self):\n",
    "        return len(self.label)\n",
    "    \n",
    "    def __getitem__(self, index):\n",
    "        avi_id = self.label[index] + '.npy'\n",
    "        data = np.load(os.path.join(self.data_dir, avi_id))\n",
    "        return self.label[index], torch.from_numpy(data.astype(np.float32))\n",
    "\n",
    "def sentence(l):\n",
    "    output = ''\n",
    "    for i in l:\n",
    "        if i == EOS_TOKEN:\n",
    "            output += '.'\n",
    "            break\n",
    "        elif i == 0 or i == BOS_TOKEN:\n",
    "            continue\n",
    "        else:\n",
    "            output += vocab.index2vocab[i] + ' '\n",
    "    return output\n",
    "    \n",
    "\n",
    "# with open('output_model.ffs', 'rb') as f:\n",
    "#     model = torch.load(f)\n",
    "    \n",
    "DS = Testset('../data/MLDS_hw2_data/testing_data/feat', '../data/MLDS_hw2_data/testing_id.txt')\n",
    "\n",
    "# model = model.cuda()\n",
    "encoder.eval()\n",
    "decoder.eval()\n",
    "\n",
    "for idx, feat in DS:\n",
    "    feat = Variable(feat).view(1, -1, INPUT_DIM).cuda()\n",
    "    e_hid = encoder.init_hidden(1)\n",
    "    d_hid = decoder.init_hidden(1)\n",
    "    \n",
    "    epad = Variable(torch.zeros(1, feat.size(1), hidden_size * (1+BIDIRECTIONAL))).cuda()\n",
    "    dpad = Variable(torch.zeros(1, 1, INPUT_DIM)).cuda()\n",
    "    \n",
    "    e_out, e_hid = encoder(feat, e_hid)\n",
    "    d_out, d_hid, dn_out = decoder(torch.cat((epad, e_out), 2), d_hid)\n",
    "\n",
    "    last_var = torch.zeros(1, 1, hidden_size * (1+BIDIRECTIONAL))\n",
    "    last_var[0][0][0] = 1 # BOS\n",
    "    last_var = Variable(last_var).cuda()\n",
    "    \n",
    "    loss = 0\n",
    "    ans = []\n",
    "    for i in range(50):\n",
    "        out1, e_hid = encoder(dpad, e_hid)\n",
    "        out2, d_hid, dn_out = decoder(torch.cat((last_var, out1), 2), d_hid)\n",
    "        last_var = out2\n",
    "        ans.append(torch.max(dn_out, 2)[1].data[0][0])\n",
    "\n",
    "    print(idx + ',' + sentence(ans))"
   ]
  },
  {
   "cell_type": "code",
   "execution_count": 16,
   "metadata": {},
   "outputs": [
    {
     "name": "stderr",
     "output_type": "stream",
     "text": [
      "/usr/lib/python3.6/site-packages/torch/serialization.py:147: UserWarning: Couldn't retrieve source code for container of type Encoder. It won't be checked for correctness upon loading.\n",
      "  \"type \" + obj.__name__ + \". It won't be checked \"\n",
      "/usr/lib/python3.6/site-packages/torch/serialization.py:147: UserWarning: Couldn't retrieve source code for container of type Decoder. It won't be checked for correctness upon loading.\n",
      "  \"type \" + obj.__name__ + \". It won't be checked \"\n"
     ]
    }
   ],
   "source": [
    "with open('MODEL_ENCODER', 'wb') as f:\n",
    "    torch.save(encoder, f)\n",
    "with open('MODEL_DECODER', 'wb') as f:\n",
    "    torch.save(decoder, f)"
   ]
  },
  {
   "cell_type": "code",
   "execution_count": 30,
   "metadata": {},
   "outputs": [
    {
     "name": "stderr",
     "output_type": "stream",
     "text": [
      "100%|██████████| 1450/1450 [01:45<00:00, 13.74it/s]\n",
      "  0%|          | 2/1450 [00:00<01:42, 14.15it/s]"
     ]
    },
    {
     "name": "stdout",
     "output_type": "stream",
     "text": [
      "Epoch 0 Loss: \n",
      " 5.1666\n",
      "[torch.cuda.FloatTensor of size 1 (GPU 0)]\n",
      "\n"
     ]
    },
    {
     "name": "stderr",
     "output_type": "stream",
     "text": [
      "100%|██████████| 1450/1450 [01:51<00:00, 13.03it/s]\n",
      "  0%|          | 2/1450 [00:00<01:39, 14.62it/s]"
     ]
    },
    {
     "name": "stdout",
     "output_type": "stream",
     "text": [
      "Epoch 1 Loss: \n",
      " 4.4180\n",
      "[torch.cuda.FloatTensor of size 1 (GPU 0)]\n",
      "\n"
     ]
    },
    {
     "name": "stderr",
     "output_type": "stream",
     "text": [
      "100%|██████████| 1450/1450 [01:44<00:00, 13.91it/s]\n",
      "  0%|          | 2/1450 [00:00<01:37, 14.83it/s]"
     ]
    },
    {
     "name": "stdout",
     "output_type": "stream",
     "text": [
      "Epoch 2 Loss: \n",
      " 4.2193\n",
      "[torch.cuda.FloatTensor of size 1 (GPU 0)]\n",
      "\n"
     ]
    },
    {
     "name": "stderr",
     "output_type": "stream",
     "text": [
      "100%|██████████| 1450/1450 [01:44<00:00, 13.91it/s]\n",
      "  0%|          | 2/1450 [00:00<01:38, 14.63it/s]"
     ]
    },
    {
     "name": "stdout",
     "output_type": "stream",
     "text": [
      "Epoch 3 Loss: \n",
      " 4.0765\n",
      "[torch.cuda.FloatTensor of size 1 (GPU 0)]\n",
      "\n"
     ]
    },
    {
     "name": "stderr",
     "output_type": "stream",
     "text": [
      "100%|██████████| 1450/1450 [01:43<00:00, 13.99it/s]"
     ]
    },
    {
     "name": "stdout",
     "output_type": "stream",
     "text": [
      "Epoch 4 Loss: \n",
      " 3.9658\n",
      "[torch.cuda.FloatTensor of size 1 (GPU 0)]\n",
      "\n"
     ]
    },
    {
     "name": "stderr",
     "output_type": "stream",
     "text": [
      "\n",
      "/usr/lib/python3.6/site-packages/torch/serialization.py:147: UserWarning: Couldn't retrieve source code for container of type S2VT. It won't be checked for correctness upon loading.\n",
      "  \"type \" + obj.__name__ + \". It won't be checked \"\n"
     ]
    }
   ],
   "source": [
    "\n",
    "hid1, hid2 = model.init_hidden(1), model.init_hidden(1)\n",
    "for i in range(epoch):\n",
    "    total_loss = 0\n",
    "    for data in tqdm(train_loader):\n",
    "        optimizer.zero_grad()\n",
    "        feat = data[0]\n",
    "        feat = Variable(torch.from_numpy(feat).view(1, feat.shape[0], -1).float()).cuda()\n",
    "        caption = data[1][0]\n",
    "        \n",
    "        for ch in '.!()':\n",
    "            if ch in caption:\n",
    "                caption = caption.replace(ch, '')\n",
    "\n",
    "        tar = Variable(torch.LongTensor([vocabs.vocab2index[word] for word in caption.split()]+[EOS_TOKEN])).view(1, -1).cuda()\n",
    "        output = model(feat, tar.size(1))\n",
    "        \n",
    "        loss = criterion(output.view(-1, 6772), tar.view(-1))\n",
    "        total_loss += loss.data\n",
    "        loss.backward()\n",
    "        \n",
    "        torch.nn.utils.clip_grad_norm(model.parameters(), 0.25)\n",
    "        optimizer.step()\n",
    "        # hid1, hid2 = repackage_hidden(hid1), repackage_hidden(hid2)\n",
    "    print('Epoch {} Loss: {}'.format(i, total_loss/len(DS)))\n",
    "    \n",
    "with open('output_model.ffs', 'wb') as f:\n",
    "    torch.save(model, f)\n"
   ]
  },
  {
   "cell_type": "code",
   "execution_count": 5,
   "metadata": {},
   "outputs": [
    {
     "name": "stdout",
     "output_type": "stream",
     "text": [
      "Building Vocab\n",
      "6773 words in the bank."
     ]
    },
    {
     "name": "stderr",
     "output_type": "stream",
     "text": [
      "/usr/lib/python3.6/site-packages/ipykernel_launcher.py:17: UserWarning: RNN module weights are not part of single contiguous chunk of memory. This means they need to be compacted at every call, possibly greately increasing memory usage. To compact weights again call flatten_parameters().\n",
      "/usr/lib/python3.6/site-packages/ipykernel_launcher.py:43: UserWarning: RNN module weights are not part of single contiguous chunk of memory. This means they need to be compacted at every call, possibly greately increasing memory usage. To compact weights again call flatten_parameters().\n"
     ]
    },
    {
     "name": "stdout",
     "output_type": "stream",
     "text": [
      "\n",
      "ScdUht-pM6s_53_63.avi,A woman is a a a a \n",
      "wkgGxsuNVSg_34_41.avi,A man is running a a .\n",
      "BtQtRGI0F2Q_15_20.avi,A man is doing .\n",
      "k06Ge9ANKM8_5_16.avi,A little is is with a .\n",
      "sZf3VDsdDPM_107_114.avi,A man is singing .\n",
      "shPymuahrsc_5_12.avi,A slow is is a a .\n",
      "XOAgUVVwKEA_8_20.avi,A girl is is a .\n",
      "ufFT2BWh3BQ_0_8.avi,A baby panda laying on .\n",
      "5YJaS2Eswg0_22_26.avi,A man is a a a .\n",
      "lw7pTwpx0K0_38_48.avi,A man is a a .\n",
      "UbmZAe5u5FI_132_141.avi,A person is cutting .\n",
      "xCFCXzDUGjY_5_9.avi,A man is a a .\n",
      "He7Ge7Sogrk_47_70.avi,A person is a a .\n",
      "tJHUH9tpqPg_113_118.avi,A man is a a a .\n",
      "n016q1w8Q30_2_11.avi,A person is folding an .\n",
      "RjpbFlOHFps_8_25.avi,Two are are .\n",
      "6JnGBs88sL0_4_10.avi,A girl girl on on a \n",
      "EpMuCrbxE8A_107_115.avi,A man is a a a .\n",
      "HAjwXjwN9-A_16_24.avi,Two are are a a .\n",
      "4xVGpDmA4lE_23_33.avi,A man is walking a a .\n",
      "k5OKBX2e7xA_19_32.avi,A man is riding a a .\n",
      "Jag7oTemldY_12_25.avi,A man is firing a a .\n",
      "8MVo7fje_oE_125_130.avi,A man is a a plastic a a .\n",
      "bqMmyY1ImkI_0_14.avi,A woman is is a a .\n",
      "jTnrm338_KY_34_42.avi,A man is a a .\n",
      "UdcObAQ5OOM_15_30.avi,A man is a a on .\n",
      "4PcL6-mjRNk_11_18.avi,A cat is a the a .\n",
      "3qqEKTPxLNs_1_15.avi,A baby is is with a .\n",
      "glrijRGnmc0_211_215.avi,A man is a a a .\n",
      "q7pOFn8s4zc_263_273.avi,A man is a a a .\n",
      "mtrCf667KDk_134_176.avi,A woman is a a .\n",
      "0lh_UWF9ZP4_62_69.avi,A woman is mixing eggs into a \n",
      "JntMAcTlOF0_50_70.avi,A woman and woman woman a .\n",
      "7NNg0_n-bS8_21_30.avi,A man is playing guitar guitar .\n",
      "IhwPQL9dFYc_124_129.avi,A woman is a .\n",
      "BAf3LXFUaGs_28_38.avi,A man is playing .\n",
      "6q1dX6thX3E_286_295.avi,A woman is singing .\n",
      "RZL9irxnhZ0_34_40.avi,A boy is playing a .\n",
      "WWf0Z6ak3Dg_5_15.avi,A man is a a a into .\n",
      "PeUHy0A1GF0_114_121.avi,A person is a shrimp .\n",
      "klteYv1Uv9A_27_33.avi,A man is riding a bike a \n",
      "e-j59PqJjSM_405_416.avi,A man is pouring into into a bowl .\n",
      "778mkceE0UQ_40_46.avi,A car is is the the .\n",
      "77iDIp40m9E_126_131.avi,A dog is running a a .\n",
      "e-j59PqJjSM_50_98.avi,A man is cutting a .\n",
      "Dgf0VHMEtNs_57_66.avi,A man is a a a a \n",
      "f9Won2JpOEU_60_80.avi,A cat is playing a a .\n",
      "dfOuTx66bJU_34_39.avi,A woman is a a a .\n",
      "04Gt01vatkk_248_265.avi,A woman is a a .\n",
      "rl1rVk_xIOs_1_16.avi,Two girls are dancing .\n",
      "v7iIZXtpIb8_5_15.avi,A man is a a phone phone \n",
      "DhwrBs96Kgk_120_124.avi,A dog is walking a the .\n",
      "qLwgb3F0aPU_298_305.avi,People are are .\n",
      "qeKX-N1nKiM_0_5.avi,A man is a a a \n",
      "1Sp2__RCT0c_11_15.avi,A jack-o-lantern is flying in the \n",
      "Fe4tO5vW9_E_64_70.avi,A man is mixing into into a \n",
      "mmSQTI6gMNQ_120_128.avi,Two are are dancing .\n",
      "HV12kTtdTT4_5_14.avi,A baby is is a .\n",
      "0lh_UWF9ZP4_27_31.avi,A woman is a green .\n",
      "Je3V7U5Ctj4_569_576.avi,A man is spreading butter on a tortilla .\n",
      "30GeJHYoerk_121_126.avi,A are are a a a .\n",
      "04Gt01vatkk_308_321.avi,A man is a a .\n",
      "zulPFoY64wE_26_33.avi,A man is a a a .\n",
      "MrQd1zUVRUM_103_110.avi,A man is a a .\n",
      "xxHx6s_DbUo_216_222.avi,A man is walking .\n",
      "71soiLO6I9U_15_24.avi,A is is a a \n",
      "UXs3eq68ZjE_250_255.avi,A man is pouring a a a .\n",
      "jbzaMtPYtl8_48_58.avi,Two boys are fighting .\n",
      "8HB7ywgJuTg_131_142.avi,A person is adding into a a \n",
      "Cjf21Y19aUQ_82_86.avi,A man is playing a .\n",
      "qvg9eM4Hmzk_4_10.avi,A man lifts a a car .\n",
      "5HAf_INrFy0_3_25.avi,A small is is a a \n",
      "YmXCfQm0_CA_277_284.avi,A man is the a the the \n",
      "88DOMJ11q2M_84_87.avi,A woman is on a a \n",
      "NUYu9c9XsgY_7_21.avi,A girl is playing a .\n",
      "N3A7944_UJw_63_70.avi,A woman is a a into a \n",
      "uJPupV4oLZ0_4_12.avi,A cat is with with a .\n",
      "cnsjm3fNEec_4_10.avi,A man is his his his .\n",
      "J_evFB7RIKA_104_120.avi,A person is a a .\n",
      "g1Gldu1KS44_8_14.avi,A lion is is dirt dirt .\n",
      "s1ZABV7AQdA_38_48.avi,A girl is walking .\n",
      "tcxhOGyrCtI_15_21.avi,A puppy is is on a .\n",
      "inzk2fTUe1w_1_15.avi,A man is doing a .\n",
      "j2Dhf-xFUxU_13_20.avi,A person is a a .\n",
      "MTjrZthHwJQ_2_11.avi,A man is a a a .\n",
      "J---aiyznGQ_0_6.avi,A person is playing a .\n",
      "ZbtpcGi2DWY_161_170.avi,A baby is is on .\n",
      "RSx5G0_xH48_12_17.avi,A cat is playing with a .\n",
      "ecm9gf2Pgkc_1_24.avi,A cat is with with .\n",
      "pW9DFPqoIsI_26_50.avi,A woman is a a .\n",
      "N2Cm0SLr0ZE_18_29.avi,A baby is is playing a .\n",
      "sJSmRik2c-c_1_7.avi,A train is moving by a .\n",
      "zv2RIbUsnSw_335_341.avi,A man is a a a a a \n",
      "aM-RcQj0a7I_37_55.avi,A is is cooking shrimp \n",
      "TZ860P4iTaM_15_28.avi,A cat is playing piano piano .\n",
      "lo4KcsBN--A_0_10.avi,A badger is digging a .\n",
      "u4T76jsPin0_0_11.avi,A are playing a a the \n",
      "7HcYJKMxpcg_20_28.avi,A are are is on the the \n",
      "CGllPWAwmUo_1_15.avi,A man is making a a \n",
      "WTf5EgVY5uU_124_128.avi,A person is cooking into a a \n"
     ]
    }
   ],
   "source": [
    "vocab = Vocab('../data/MLDS_hw2_data/training_label.json')\n",
    "\n",
    "with open('MODEL_ENCODER', 'rb') as f:\n",
    "    encoder = torch.load(f)\n",
    "\n",
    "with open('MODEL_DECODER', 'rb') as f:\n",
    "    decoder = torch.load(f)\n",
    "\n",
    "\n",
    "#############################################\n",
    "#   Testing\n",
    "#############################################\n",
    "class Testset(Dataset):\n",
    "    def __init__(self, data, ids):\n",
    "        self.data_dir = data\n",
    "        self.label = []\n",
    "        with open(ids, 'r') as f:\n",
    "            for line in f:\n",
    "                self.label.append(line.strip())\n",
    "                \n",
    "    def __len__(self):\n",
    "        return len(self.label)\n",
    "    \n",
    "    def __getitem__(self, index):\n",
    "        avi_id = self.label[index] + '.npy'\n",
    "        data = np.load(os.path.join(self.data_dir, avi_id))\n",
    "        return self.label[index], torch.from_numpy(data.astype(np.float32))\n",
    "\n",
    "def sentence(l):\n",
    "    output = ''\n",
    "    for i in l:\n",
    "        if i == EOS_TOKEN:\n",
    "            output += '.'\n",
    "            break\n",
    "        elif i == 0 or i == BOS_TOKEN:\n",
    "            continue\n",
    "        else:\n",
    "            output += vocab.index2vocab[i] + ' '\n",
    "    return output\n",
    "    \n",
    "\n",
    "# with open('output_model.ffs', 'rb') as f:\n",
    "#     model = torch.load(f)\n",
    "    \n",
    "DS = Testset('../data/MLDS_hw2_data/testing_data/feat', '../data/MLDS_hw2_data/testing_id.txt')\n",
    "\n",
    "# model = model.cuda()\n",
    "encoder.eval()\n",
    "decoder.eval()\n",
    "\n",
    "for idx, feat in DS:\n",
    "    feat = Variable(feat).view(1, -1, INPUT_DIM).cuda()\n",
    "    e_hid = encoder.init_hidden(1)\n",
    "    d_hid = decoder.init_hidden(1)\n",
    "    \n",
    "    epad = Variable(torch.zeros(1, feat.size(1), hidden_size * (1+BIDIRECTIONAL))).cuda()\n",
    "    dpad = Variable(torch.zeros(1, 1, INPUT_DIM)).cuda()\n",
    "    \n",
    "    e_out, e_hid = encoder(feat, e_hid)\n",
    "    d_out, d_hid, dn_out = decoder(torch.cat((epad, e_out), 2), d_hid)\n",
    "\n",
    "    last_var = torch.zeros(1, 1, hidden_size * (1+BIDIRECTIONAL))\n",
    "    last_var[0][0][0] = 1 # BOS\n",
    "    last_var = Variable(last_var).cuda()\n",
    "    \n",
    "    loss = 0\n",
    "    ans = []\n",
    "    for i in range(50):\n",
    "        out1, e_hid = encoder(dpad, e_hid)\n",
    "        out2, d_hid, dn_out = decoder(torch.cat((last_var, out1), 2), d_hid)\n",
    "        last_var = out2\n",
    "        ans.append(torch.max(dn_out, 2)[1].data[0][0])\n",
    "\n",
    "    print(idx + ',' + sentence(ans))"
   ]
  },
  {
   "cell_type": "code",
   "execution_count": null,
   "metadata": {
    "collapsed": true
   },
   "outputs": [],
   "source": []
  }
 ],
 "metadata": {
  "kernelspec": {
   "display_name": "Python 3",
   "language": "python",
   "name": "python3"
  },
  "language_info": {
   "codemirror_mode": {
    "name": "ipython",
    "version": 3
   },
   "file_extension": ".py",
   "mimetype": "text/x-python",
   "name": "python",
   "nbconvert_exporter": "python",
   "pygments_lexer": "ipython3",
   "version": "3.6.3"
  }
 },
 "nbformat": 4,
 "nbformat_minor": 2
}
